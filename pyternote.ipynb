{
 "cells": [
  {
   "cell_type": "code",
   "execution_count": 9,
   "metadata": {},
   "outputs": [
    {
     "name": "stdout",
     "output_type": "stream",
     "text": [
      "Values found at Indices: [0]\n"
     ]
    }
   ],
   "source": [
    "\n",
    "def linear_search(list, value):\n",
    "    new_list = []\n",
    "    for item in range(len(list)):\n",
    "        if list[item] == value:\n",
    "            new_list.append(item)\n",
    "        \n",
    "    return new_list\n",
    "\n",
    "\n",
    "my_list = [11, 423, 10, 172, 30, 910, 9, 2, 45, 172, 10, 172, 10]\n",
    "\n",
    "print(\"Values found at Indices: \" + str(linear_search(my_list, 11)))"
   ]
  },
  {
   "cell_type": "code",
   "execution_count": 10,
   "metadata": {},
   "outputs": [
    {
     "name": "stdout",
     "output_type": "stream",
     "text": [
      "Values found at Indices: 0\n"
     ]
    }
   ],
   "source": [
    "def binarySearch(array, target): #returns the index or the target \n",
    "    low = array[0]\n",
    "    high = array[len(array)-1]\n",
    "    if array[0] == target:\n",
    "            return 0\n",
    "    elif array[len(array)-1] == target:\n",
    "        return len(array)-1\n",
    "    else:\n",
    "        while(low <= high):\n",
    "            mid = int((low+high)/2)\n",
    "            if array[mid]==target:\n",
    "                return mid\n",
    "            elif array[mid] > target:\n",
    "                high = mid -1\n",
    "            elif array[mid] < target:\n",
    "                low = mid +1\n",
    "        return -1  #returns -1 if the target does not exist\n",
    "\n",
    "my_list = [11, 423, 10, 172, 30, 910, 9, 2, 45, 172, 10, 172, 10]\n",
    "\n",
    "print(\"Values found at Indices: \" + str(binarySearch(my_list, 11)))"
   ]
  },
  {
   "cell_type": "code",
   "execution_count": null,
   "metadata": {},
   "outputs": [],
   "source": [
    "#Cafeteria Management Tool\n",
    "#Mark meal cards.\n",
    "\n",
    "\n",
    "#The algorithm searches through a nested list\n",
    "#When the student is found, the algorithm finds out if the student has not eaten\n",
    "def searchToMarkMealCard(cafeteriaList, registrationNumber, dayOfTheWeek):\n",
    "\n",
    "    for day in cafeteriaList:\n",
    "        if(day == dayOfTheWeek):\n",
    "            for student in day.studentList:\n",
    "                if(registrationNumber == cafeteriaList.registrationNumber):\n",
    "                    if(not cafeteriaList.hasEaten):\n",
    "                        return True\n",
    "\n",
    "    return False\n",
    "\n",
    "#Write a function that will update the Cafeteria's registry to \"hasEaten\" attribute to True, when"
   ]
  }
 ],
 "metadata": {
  "kernelspec": {
   "display_name": "Python 3.10.4 64-bit",
   "language": "python",
   "name": "python3"
  },
  "language_info": {
   "codemirror_mode": {
    "name": "ipython",
    "version": 3
   },
   "file_extension": ".py",
   "mimetype": "text/x-python",
   "name": "python",
   "nbconvert_exporter": "python",
   "pygments_lexer": "ipython3",
   "version": "3.10.4"
  },
  "orig_nbformat": 4,
  "vscode": {
   "interpreter": {
    "hash": "d3e10ef16274dd72e574b8fa73b58450b957d8421a2901baded3cca26fcf5dda"
   }
  }
 },
 "nbformat": 4,
 "nbformat_minor": 2
}
