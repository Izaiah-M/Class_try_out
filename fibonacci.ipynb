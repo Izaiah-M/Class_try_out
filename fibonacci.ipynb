{
 "cells": [
  {
   "cell_type": "code",
   "execution_count": null,
   "metadata": {},
   "outputs": [],
   "source": [
    "def fibonacci(index):\n",
    "\n",
    "    if index== 1 or index == 2:\n",
    "        value = 1\n",
    "    else:\n",
    "        value = fibonacci(index-1) + fibonacci(index-2)\n",
    "    return value\n",
    "\n",
    "print(fibonacci(40))"
   ]
  },
  {
   "cell_type": "code",
   "execution_count": null,
   "metadata": {},
   "outputs": [
    {
     "name": "stdout",
     "output_type": "stream",
     "text": [
      "102334155\n",
      "[None, 1, 1, 2, 3, 5, 8, 13, 21, 34, 55, 89, 144, 233, 377, 610, 987, 1597, 2584, 4181, 6765, 10946, 17711, 28657, 46368, 75025, 121393, 196418, 317811, 514229, 832040, 1346269, 2178309, 3524578, 5702887, 9227465, 14930352, 24157817, 39088169, 63245986, 102334155]\n"
     ]
    }
   ],
   "source": [
    "def fibonacciMemoize(index, store):\n",
    "    if store[index] is not None:\n",
    "        return store[index]\n",
    "    if index == 1 or index == 2:\n",
    "        value = 1\n",
    "    else:\n",
    "        value = fibonacciMemoize(index - 1, store) + fibonacciMemoize(index-2, store)\n",
    "\n",
    "    store[index] = value\n",
    "    return value\n",
    "\n",
    "i = 40\n",
    "store = [None] * (i + 1)\n",
    "\n",
    "print(fibonacciMemoize(i, store))\n",
    "\n",
    "print(store)\n",
    "\n",
    "\n"
   ]
  }
 ],
 "metadata": {
  "kernelspec": {
   "display_name": "Python 3.10.4 64-bit",
   "language": "python",
   "name": "python3"
  },
  "language_info": {
   "codemirror_mode": {
    "name": "ipython",
    "version": 3
   },
   "file_extension": ".py",
   "mimetype": "text/x-python",
   "name": "python",
   "nbconvert_exporter": "python",
   "pygments_lexer": "ipython3",
   "version": "3.10.4"
  },
  "orig_nbformat": 4,
  "vscode": {
   "interpreter": {
    "hash": "d3e10ef16274dd72e574b8fa73b58450b957d8421a2901baded3cca26fcf5dda"
   }
  }
 },
 "nbformat": 4,
 "nbformat_minor": 2
}
